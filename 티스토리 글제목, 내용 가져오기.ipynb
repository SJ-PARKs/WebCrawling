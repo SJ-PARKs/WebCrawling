{
 "cells": [
  {
   "cell_type": "code",
   "execution_count": 1,
   "id": "399eb065",
   "metadata": {},
   "outputs": [],
   "source": [
    "from bs4 import BeautifulSoup\n",
    "from urllib.request import urlopen\n",
    "\n",
    "url=\"https://ai-dev.tistory.com/1\"\n",
    "html=urlopen(url)\n",
    "bs_obj=BeautifulSoup(html,\"html.parser\")"
   ]
  },
  {
   "cell_type": "code",
   "execution_count": 2,
   "id": "8e7f6500",
   "metadata": {},
   "outputs": [
    {
     "name": "stdout",
     "output_type": "stream",
     "text": [
      "[<h1><a href=\"https://ai-dev.tistory.com/\">인공지능 개발의 모든 것</a></h1>, <h1>크롤링의 세계에 오신 것을 환영합니다. </h1>]\n"
     ]
    }
   ],
   "source": [
    "title=bs_obj.find_all(\"h1\")\n",
    "print(title)\n",
    "print(title[1])\n",
    "print(title[1].text)"
   ]
  },
  {
   "cell_type": "code",
   "execution_count": 7,
   "id": "d8b4a044",
   "metadata": {},
   "outputs": [
    {
     "name": "stdout",
     "output_type": "stream",
     "text": [
      "[<p>POWERED BY TISTORY</p>, <p>Hello, world!</p>, <p class=\"copyright\">DESIGN BY <a href=\"#\">TISTORY</a> <a class=\"admin\" href=\"https://ai-dev.tistory.com/manage\">관리자</a></p>]\n",
      "<p>Hello, world!</p>\n",
      "Hello, world!\n"
     ]
    }
   ],
   "source": [
    "contents=bs_obj.find_all(\"p\")\n",
    "print(contents)\n",
    "print(contents[1])\n",
    "print(contents[1].text)"
   ]
  }
 ],
 "metadata": {
  "kernelspec": {
   "display_name": "py3_8_5",
   "language": "python",
   "name": "py3_8_5"
  },
  "language_info": {
   "codemirror_mode": {
    "name": "ipython",
    "version": 3
   },
   "file_extension": ".py",
   "mimetype": "text/x-python",
   "name": "python",
   "nbconvert_exporter": "python",
   "pygments_lexer": "ipython3",
   "version": "3.8.5"
  }
 },
 "nbformat": 4,
 "nbformat_minor": 5
}
