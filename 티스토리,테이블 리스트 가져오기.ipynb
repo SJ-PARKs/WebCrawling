{
 "cells": [
  {
   "cell_type": "code",
   "execution_count": 12,
   "id": "122fd05b",
   "metadata": {},
   "outputs": [
    {
     "data": {
      "text/plain": [
       "[<table border=\"1\" data-ke-align=\"alignLeft\" data-ke-style=\"style1\" style=\"border-collapse: collapse; width: 100%;\">\n",
       " <tbody>\n",
       " <tr>\n",
       " <td style=\"width: 33.3333%; text-align: center;\">상품</td>\n",
       " <td style=\"width: 33.3333%; text-align: center;\">색상</td>\n",
       " <td style=\"width: 33.3333%; text-align: center;\">가격</td>\n",
       " </tr>\n",
       " <tr>\n",
       " <td style=\"width: 33.3333%; text-align: center;\">셔츠1</td>\n",
       " <td style=\"width: 33.3333%; text-align: center;\">빨강</td>\n",
       " <td style=\"width: 33.3333%; text-align: center;\">20000</td>\n",
       " </tr>\n",
       " <tr>\n",
       " <td style=\"width: 33.3333%; text-align: center;\">셔츠2</td>\n",
       " <td style=\"width: 33.3333%; text-align: center;\">파랑</td>\n",
       " <td style=\"width: 33.3333%; text-align: center;\">19000</td>\n",
       " </tr>\n",
       " <tr>\n",
       " <td style=\"width: 33.3333%; text-align: center;\">셔츠3</td>\n",
       " <td style=\"width: 33.3333%; text-align: center;\">초록</td>\n",
       " <td style=\"width: 33.3333%; text-align: center;\">18000</td>\n",
       " </tr>\n",
       " <tr>\n",
       " <td style=\"width: 33.3333%; text-align: center;\">바지1</td>\n",
       " <td style=\"width: 33.3333%; text-align: center;\">검정</td>\n",
       " <td style=\"width: 33.3333%; text-align: center;\">50000</td>\n",
       " </tr>\n",
       " <tr>\n",
       " <td style=\"width: 33.3333%; text-align: center;\">바지2</td>\n",
       " <td style=\"width: 33.3333%; text-align: center;\">파랑</td>\n",
       " <td style=\"width: 33.3333%; text-align: center;\">51000</td>\n",
       " </tr>\n",
       " </tbody>\n",
       " </table>,\n",
       " <table>\n",
       " <tr>\n",
       " <th><a href=\"/1\">크롤링의 세계에 오신 것을 환영합니다.</a>  <span>(3)</span></th>\n",
       " <td>2021.01.21</td>\n",
       " </tr>\n",
       " </table>]"
      ]
     },
     "execution_count": 12,
     "metadata": {},
     "output_type": "execute_result"
    }
   ],
   "source": [
    "from urllib.request import urlopen\n",
    "from bs4 import BeautifulSoup\n",
    "\n",
    "url=\"https://ai-dev.tistory.com/2\"\n",
    "html=urlopen(url)\n",
    "bs_obj=BeautifulSoup(html,\"html.parser\")\n",
    "table_tag=bs_obj.find_all(\"table\")\n",
    "table_tag"
   ]
  },
  {
   "cell_type": "code",
   "execution_count": 5,
   "id": "035a3126",
   "metadata": {},
   "outputs": [
    {
     "data": {
      "text/plain": [
       "<table border=\"1\" data-ke-align=\"alignLeft\" data-ke-style=\"style1\" style=\"border-collapse: collapse; width: 100%;\">\n",
       "<tbody>\n",
       "<tr>\n",
       "<td style=\"width: 33.3333%; text-align: center;\">상품</td>\n",
       "<td style=\"width: 33.3333%; text-align: center;\">색상</td>\n",
       "<td style=\"width: 33.3333%; text-align: center;\">가격</td>\n",
       "</tr>\n",
       "<tr>\n",
       "<td style=\"width: 33.3333%; text-align: center;\">셔츠1</td>\n",
       "<td style=\"width: 33.3333%; text-align: center;\">빨강</td>\n",
       "<td style=\"width: 33.3333%; text-align: center;\">20000</td>\n",
       "</tr>\n",
       "<tr>\n",
       "<td style=\"width: 33.3333%; text-align: center;\">셔츠2</td>\n",
       "<td style=\"width: 33.3333%; text-align: center;\">파랑</td>\n",
       "<td style=\"width: 33.3333%; text-align: center;\">19000</td>\n",
       "</tr>\n",
       "<tr>\n",
       "<td style=\"width: 33.3333%; text-align: center;\">셔츠3</td>\n",
       "<td style=\"width: 33.3333%; text-align: center;\">초록</td>\n",
       "<td style=\"width: 33.3333%; text-align: center;\">18000</td>\n",
       "</tr>\n",
       "<tr>\n",
       "<td style=\"width: 33.3333%; text-align: center;\">바지1</td>\n",
       "<td style=\"width: 33.3333%; text-align: center;\">검정</td>\n",
       "<td style=\"width: 33.3333%; text-align: center;\">50000</td>\n",
       "</tr>\n",
       "<tr>\n",
       "<td style=\"width: 33.3333%; text-align: center;\">바지2</td>\n",
       "<td style=\"width: 33.3333%; text-align: center;\">파랑</td>\n",
       "<td style=\"width: 33.3333%; text-align: center;\">51000</td>\n",
       "</tr>\n",
       "</tbody>\n",
       "</table>"
      ]
     },
     "execution_count": 5,
     "metadata": {},
     "output_type": "execute_result"
    }
   ],
   "source": [
    "table_tag[0]"
   ]
  },
  {
   "cell_type": "code",
   "execution_count": 11,
   "id": "ae7a374f",
   "metadata": {},
   "outputs": [
    {
     "data": {
      "text/plain": [
       "[<td style=\"width: 33.3333%; text-align: center;\">상품</td>,\n",
       " <td style=\"width: 33.3333%; text-align: center;\">색상</td>,\n",
       " <td style=\"width: 33.3333%; text-align: center;\">가격</td>,\n",
       " <td style=\"width: 33.3333%; text-align: center;\">셔츠1</td>,\n",
       " <td style=\"width: 33.3333%; text-align: center;\">빨강</td>,\n",
       " <td style=\"width: 33.3333%; text-align: center;\">20000</td>,\n",
       " <td style=\"width: 33.3333%; text-align: center;\">셔츠2</td>,\n",
       " <td style=\"width: 33.3333%; text-align: center;\">파랑</td>,\n",
       " <td style=\"width: 33.3333%; text-align: center;\">19000</td>,\n",
       " <td style=\"width: 33.3333%; text-align: center;\">셔츠3</td>,\n",
       " <td style=\"width: 33.3333%; text-align: center;\">초록</td>,\n",
       " <td style=\"width: 33.3333%; text-align: center;\">18000</td>,\n",
       " <td style=\"width: 33.3333%; text-align: center;\">바지1</td>,\n",
       " <td style=\"width: 33.3333%; text-align: center;\">검정</td>,\n",
       " <td style=\"width: 33.3333%; text-align: center;\">50000</td>,\n",
       " <td style=\"width: 33.3333%; text-align: center;\">바지2</td>,\n",
       " <td style=\"width: 33.3333%; text-align: center;\">파랑</td>,\n",
       " <td style=\"width: 33.3333%; text-align: center;\">51000</td>]"
      ]
     },
     "execution_count": 11,
     "metadata": {},
     "output_type": "execute_result"
    }
   ],
   "source": [
    "table_tag01=table_tag[0].find_all(\"td\")\n",
    "table_tag01"
   ]
  },
  {
   "cell_type": "code",
   "execution_count": 8,
   "id": "0564593a",
   "metadata": {},
   "outputs": [
    {
     "name": "stdout",
     "output_type": "stream",
     "text": [
      "0 상품\n",
      "1 색상\n",
      "2 가격\n",
      "3 셔츠1\n",
      "4 빨강\n",
      "5 20000\n",
      "6 셔츠2\n",
      "7 파랑\n",
      "8 19000\n",
      "9 셔츠3\n",
      "10 초록\n",
      "11 18000\n",
      "12 바지1\n",
      "13 검정\n",
      "14 50000\n",
      "15 바지2\n",
      "16 파랑\n",
      "17 51000\n"
     ]
    }
   ],
   "source": [
    "for idx, element in enumerate(table_tag01):\n",
    "    print(idx,element.text)"
   ]
  },
  {
   "cell_type": "code",
   "execution_count": 10,
   "id": "48bf819d",
   "metadata": {
    "scrolled": true
   },
   "outputs": [
    {
     "data": {
      "text/plain": [
       "[<td style=\"width: 33.3333%; text-align: center;\">상품</td>,\n",
       " <td style=\"width: 33.3333%; text-align: center;\">색상</td>,\n",
       " <td style=\"width: 33.3333%; text-align: center;\">가격</td>,\n",
       " <td style=\"width: 33.3333%; text-align: center;\">셔츠1</td>,\n",
       " <td style=\"width: 33.3333%; text-align: center;\">빨강</td>,\n",
       " <td style=\"width: 33.3333%; text-align: center;\">20000</td>,\n",
       " <td style=\"width: 33.3333%; text-align: center;\">셔츠2</td>,\n",
       " <td style=\"width: 33.3333%; text-align: center;\">파랑</td>,\n",
       " <td style=\"width: 33.3333%; text-align: center;\">19000</td>,\n",
       " <td style=\"width: 33.3333%; text-align: center;\">셔츠3</td>,\n",
       " <td style=\"width: 33.3333%; text-align: center;\">초록</td>,\n",
       " <td style=\"width: 33.3333%; text-align: center;\">18000</td>,\n",
       " <td style=\"width: 33.3333%; text-align: center;\">바지1</td>,\n",
       " <td style=\"width: 33.3333%; text-align: center;\">검정</td>,\n",
       " <td style=\"width: 33.3333%; text-align: center;\">50000</td>,\n",
       " <td style=\"width: 33.3333%; text-align: center;\">바지2</td>,\n",
       " <td style=\"width: 33.3333%; text-align: center;\">파랑</td>,\n",
       " <td style=\"width: 33.3333%; text-align: center;\">51000</td>,\n",
       " <td>2021.01.21</td>]"
      ]
     },
     "execution_count": 10,
     "metadata": {},
     "output_type": "execute_result"
    }
   ],
   "source": [
    "table01=bs_obj.find_all(\"td\")\n",
    "table01"
   ]
  },
  {
   "cell_type": "code",
   "execution_count": 7,
   "id": "5f5a3a7f",
   "metadata": {},
   "outputs": [
    {
     "data": {
      "text/plain": [
       "[<td style=\"width: 33.3333%; text-align: center;\">상품</td>,\n",
       " <td style=\"width: 33.3333%; text-align: center;\">색상</td>,\n",
       " <td style=\"width: 33.3333%; text-align: center;\">가격</td>,\n",
       " <td style=\"width: 33.3333%; text-align: center;\">셔츠1</td>,\n",
       " <td style=\"width: 33.3333%; text-align: center;\">빨강</td>,\n",
       " <td style=\"width: 33.3333%; text-align: center;\">20000</td>,\n",
       " <td style=\"width: 33.3333%; text-align: center;\">셔츠2</td>,\n",
       " <td style=\"width: 33.3333%; text-align: center;\">파랑</td>,\n",
       " <td style=\"width: 33.3333%; text-align: center;\">19000</td>,\n",
       " <td style=\"width: 33.3333%; text-align: center;\">셔츠3</td>,\n",
       " <td style=\"width: 33.3333%; text-align: center;\">초록</td>,\n",
       " <td style=\"width: 33.3333%; text-align: center;\">18000</td>,\n",
       " <td style=\"width: 33.3333%; text-align: center;\">바지1</td>,\n",
       " <td style=\"width: 33.3333%; text-align: center;\">검정</td>,\n",
       " <td style=\"width: 33.3333%; text-align: center;\">50000</td>,\n",
       " <td style=\"width: 33.3333%; text-align: center;\">바지2</td>,\n",
       " <td style=\"width: 33.3333%; text-align: center;\">파랑</td>,\n",
       " <td style=\"width: 33.3333%; text-align: center;\">51000</td>]"
      ]
     },
     "execution_count": 7,
     "metadata": {},
     "output_type": "execute_result"
    }
   ],
   "source": [
    "table=bs_obj.find_all(\"td\",{\"style\":\"width: 33.3333%; text-align: center;\"})\n",
    "table"
   ]
  },
  {
   "cell_type": "code",
   "execution_count": 14,
   "id": "30c1ffb1",
   "metadata": {},
   "outputs": [
    {
     "name": "stdout",
     "output_type": "stream",
     "text": [
      "0 상품\n",
      "1 색상\n",
      "2 가격\n",
      "3 셔츠1\n",
      "4 빨강\n",
      "5 20000\n",
      "6 셔츠2\n",
      "7 파랑\n",
      "8 19000\n",
      "9 셔츠3\n",
      "10 초록\n",
      "11 18000\n",
      "12 바지1\n",
      "13 검정\n",
      "14 50000\n",
      "15 바지2\n",
      "16 파랑\n",
      "17 51000\n"
     ]
    }
   ],
   "source": [
    "for idx, element in enumerate(table):\n",
    "    print(idx, element.text)"
   ]
  },
  {
   "cell_type": "markdown",
   "id": "a1d1086b",
   "metadata": {},
   "source": [
    "    ## 리스트"
   ]
  },
  {
   "cell_type": "code",
   "execution_count": 16,
   "id": "138e7e0e",
   "metadata": {},
   "outputs": [
    {
     "data": {
      "text/plain": [
       "[<li class=\"\"><a class=\"link_tit\" href=\"/category\"> 분류 전체보기 <span class=\"c_cnt\">(2)</span> </a>\n",
       " <ul class=\"category_list\"><li class=\"\"><a class=\"link_item\" href=\"/category/%ED%81%AC%EB%A1%A4%EB%A7%81\"> 크롤링 <span class=\"c_cnt\">(2)</span> </a></li>\n",
       " </ul>\n",
       " </li>,\n",
       " <li class=\"\"><a class=\"link_item\" href=\"/category/%ED%81%AC%EB%A1%A4%EB%A7%81\"> 크롤링 <span class=\"c_cnt\">(2)</span> </a></li>,\n",
       " <li>모니터</li>,\n",
       " <li>CPU</li>,\n",
       " <li>메모리</li>,\n",
       " <li>그래픽카드</li>,\n",
       " <li>하드디스크</li>,\n",
       " <li>키보드</li>,\n",
       " <li>마우스</li>,\n",
       " <li>\n",
       " <a href=\"/1?category=836119\">\n",
       " <span class=\"thum\">\n",
       " </span>\n",
       " <span class=\"title\">크롤링의 세계에 오신 것을 환영합니다.</span>\n",
       " </a>\n",
       " </li>]"
      ]
     },
     "execution_count": 16,
     "metadata": {},
     "output_type": "execute_result"
    }
   ],
   "source": [
    "com_list = bs_obj.find_all(\"li\")\n",
    "com_list"
   ]
  },
  {
   "cell_type": "code",
   "execution_count": 17,
   "id": "d7191bd6",
   "metadata": {},
   "outputs": [
    {
     "data": {
      "text/plain": [
       "[<ul data-ke-list-type=\"disc\" style=\"list-style-type: disc;\">\n",
       " <li>모니터</li>\n",
       " <li>CPU</li>\n",
       " <li>메모리</li>\n",
       " <li>그래픽카드</li>\n",
       " <li>하드디스크</li>\n",
       " <li>키보드</li>\n",
       " <li>마우스</li>\n",
       " </ul>]"
      ]
     },
     "execution_count": 17,
     "metadata": {},
     "output_type": "execute_result"
    }
   ],
   "source": [
    "com_list01 = bs_obj.find_all(\"ul\",{\"style\":\"list-style-type: disc;\"})\n",
    "com_list01"
   ]
  },
  {
   "cell_type": "code",
   "execution_count": 20,
   "id": "919eed67",
   "metadata": {},
   "outputs": [
    {
     "name": "stdout",
     "output_type": "stream",
     "text": [
      "0 모니터\n",
      "1 CPU\n",
      "2 메모리\n",
      "3 그래픽카드\n",
      "4 하드디스크\n",
      "5 키보드\n",
      "6 마우스\n"
     ]
    }
   ],
   "source": [
    "com_list02=com_list01[0].find_all(\"li\")\n",
    "for idx, element in enumerate(com_list02):\n",
    "    print(idx, element.text)"
   ]
  },
  {
   "cell_type": "code",
   "execution_count": null,
   "id": "0d210a7c",
   "metadata": {},
   "outputs": [],
   "source": []
  }
 ],
 "metadata": {
  "kernelspec": {
   "display_name": "py3_8_5",
   "language": "python",
   "name": "py3_8_5"
  },
  "language_info": {
   "codemirror_mode": {
    "name": "ipython",
    "version": 3
   },
   "file_extension": ".py",
   "mimetype": "text/x-python",
   "name": "python",
   "nbconvert_exporter": "python",
   "pygments_lexer": "ipython3",
   "version": "3.8.5"
  }
 },
 "nbformat": 4,
 "nbformat_minor": 5
}
